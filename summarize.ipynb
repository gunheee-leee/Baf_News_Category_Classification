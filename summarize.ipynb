{
 "cells": [
  {
   "cell_type": "code",
   "execution_count": null,
   "id": "9b67f0d1",
   "metadata": {},
   "outputs": [],
   "source": [
    "import gensim\n",
    "from gensim.summarization.summarizer import summarize\n",
    "import pandas as pd"
   ]
  },
  {
   "cell_type": "code",
   "execution_count": null,
   "id": "9d221997",
   "metadata": {},
   "outputs": [],
   "source": [
    "data=pd.read_csv(\"C:/Users/82102/Desktop/비어플 뉴스분류/test1.csv\")"
   ]
  },
  {
   "cell_type": "code",
   "execution_count": null,
   "id": "0dc7cfae",
   "metadata": {},
   "outputs": [],
   "source": [
    "data.drop('Unnamed: 0', axis=1, inplace=True)"
   ]
  },
  {
   "cell_type": "code",
   "execution_count": null,
   "id": "1c94153a",
   "metadata": {},
   "outputs": [],
   "source": [
    "data2=data.copy()"
   ]
  },
  {
   "cell_type": "code",
   "execution_count": null,
   "id": "74e787b1",
   "metadata": {},
   "outputs": [],
   "source": [
    "pd.set_option('mode.chained_assignment',  None)"
   ]
  },
  {
   "cell_type": "code",
   "execution_count": null,
   "id": "86641c19",
   "metadata": {},
   "outputs": [],
   "source": [
    "data2['summarized_text']={}"
   ]
  },
  {
   "cell_type": "code",
   "execution_count": null,
   "id": "eb8bc38a",
   "metadata": {},
   "outputs": [],
   "source": [
    "for i in range(len(data2)):\n",
    "    if(data2['length'][i]<400):\n",
    "        data2['summarized_text'][i]=summarize(data2['text'][i], ratio=0.5)\n",
    "    elif(data2['length'][i]<800):\n",
    "        data2['summarized_text'][i]=summarize(data2['text'][i], ratio=0.25)\n",
    "    elif(data2['length'][i]<1200):\n",
    "        data2['summarized_text'][i]=summarize(data2['text'][i], ratio=0.15)\n",
    "    elif(data2['length'][i]<1600):\n",
    "        data2['summarized_text'][i]=summarize(data2['text'][i], ratio=0.13)\n",
    "    elif(data2['length'][i]<2000):\n",
    "        data2['summarized_text'][i]=summarize(data2['text'][i], ratio=0.1)    \n",
    "    elif(data2['length'][i]<2400):\n",
    "        data2['summarized_text'][i]=summarize(data2['text'][i], ratio=0.08)  \n",
    "    elif(data2['length'][i]<2800):\n",
    "        data2['summarized_text'][i]=summarize(data2['text'][i], ratio=0.06)  \n",
    "    else:\n",
    "        data2['summarized_text'][i]=summarize(data2['text'][i], ratio=0.05)    \n"
   ]
  },
  {
   "cell_type": "code",
   "execution_count": null,
   "id": "bac63a60",
   "metadata": {},
   "outputs": [],
   "source": [
    "data2.to_csv('summarized2.csv', index=True)"
   ]
  },
  {
   "cell_type": "code",
   "execution_count": null,
   "id": "518b6bb4",
   "metadata": {},
   "outputs": [],
   "source": []
  },
  {
   "cell_type": "code",
   "execution_count": null,
   "id": "46e779f1",
   "metadata": {},
   "outputs": [],
   "source": []
  },
  {
   "cell_type": "code",
   "execution_count": null,
   "id": "3caf2c80",
   "metadata": {},
   "outputs": [],
   "source": []
  }
 ],
 "metadata": {
  "kernelspec": {
   "display_name": "Python 3 (ipykernel)",
   "language": "python",
   "name": "python3"
  },
  "language_info": {
   "codemirror_mode": {
    "name": "ipython",
    "version": 3
   },
   "file_extension": ".py",
   "mimetype": "text/x-python",
   "name": "python",
   "nbconvert_exporter": "python",
   "pygments_lexer": "ipython3",
   "version": "3.9.7"
  }
 },
 "nbformat": 4,
 "nbformat_minor": 5
}
