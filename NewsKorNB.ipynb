{
 "cells": [
  {
   "cell_type": "markdown",
   "id": "8c95e095",
   "metadata": {},
   "source": [
    "# 데이터 불러오기"
   ]
  },
  {
   "cell_type": "code",
   "execution_count": 1,
   "id": "33b57450",
   "metadata": {},
   "outputs": [],
   "source": [
    "import pandas as pd\n",
    "import glob\n",
    "\n",
    "data0 = pd.DataFrame()\n",
    "data1 = pd.DataFrame()\n",
    "data2 = pd.DataFrame()\n",
    "data3 = pd.DataFrame()\n",
    "data4 = pd.DataFrame()\n",
    "data5 = pd.DataFrame()\n",
    "data6 = pd.DataFrame()\n",
    "data7 = pd.DataFrame()\n",
    "\n",
    "# 폴더 내의 모든 txt파일을 불러오는 코드\n",
    "file_paths0 = glob.glob('C:/Users/82102/Desktop/Baf_News_Category_Classification/newsData/0/*.txt')\n",
    "file_paths1 = glob.glob('C:/Users/82102/Desktop/Baf_News_Category_Classification/newsData/1/*.txt')\n",
    "file_paths2 = glob.glob('C:/Users/82102/Desktop/Baf_News_Category_Classification/newsData/2/*.txt')\n",
    "file_paths3 = glob.glob('C:/Users/82102/Desktop/Baf_News_Category_Classification/newsData/3/*.txt')\n",
    "file_paths4 = glob.glob('C:/Users/82102/Desktop/Baf_News_Category_Classification/newsData/4/*.txt')\n",
    "file_paths5 = glob.glob('C:/Users/82102/Desktop/Baf_News_Category_Classification/newsData/5/*.txt')\n",
    "file_paths6 = glob.glob('C:/Users/82102/Desktop/Baf_News_Category_Classification/newsData/6/*.txt')\n",
    "file_paths7 = glob.glob('C:/Users/82102/Desktop/Baf_News_Category_Classification/newsData/7/*.txt')"
   ]
  },
  {
   "cell_type": "code",
   "execution_count": 2,
   "id": "4eb5445d",
   "metadata": {},
   "outputs": [],
   "source": [
    "# 각 파일을 순회하며 데이터프레임에 추가\n",
    "for file_path0 in file_paths0:\n",
    "    with open(file_path0, 'r', encoding='utf-8') as file0:\n",
    "        file0_contents = file0.read()\n",
    "        df0 = pd.DataFrame({'text': [file0_contents]})\n",
    "        data0 = pd.concat([data0, df0], ignore_index=True)\n",
    "        \n",
    "for file_path1 in file_paths1:\n",
    "    with open(file_path1, 'r', encoding='utf-8') as file1:\n",
    "        file1_contents = file1.read()\n",
    "        df1 = pd.DataFrame({'text': [file1_contents]})\n",
    "        data1 = pd.concat([data1, df1], ignore_index=True)\n",
    "        \n",
    "for file_path2 in file_paths2:\n",
    "    with open(file_path2, 'r', encoding='utf-8') as file2:\n",
    "        file2_contents = file2.read()\n",
    "        df2 = pd.DataFrame({'text': [file2_contents]})\n",
    "        data2 = pd.concat([data2, df2], ignore_index=True)\n",
    "        \n",
    "for file_path3 in file_paths3:\n",
    "    with open(file_path3, 'r', encoding='utf-8') as file3:\n",
    "        file3_contents = file3.read()\n",
    "        df3 = pd.DataFrame({'text': [file3_contents]})\n",
    "        data3 = pd.concat([data3, df3], ignore_index=True)\n",
    "        \n",
    "for file_path4 in file_paths4:\n",
    "    with open(file_path4, 'r', encoding='utf-8') as file4:\n",
    "        file4_contents = file4.read()\n",
    "        df4 = pd.DataFrame({'text': [file4_contents]})\n",
    "        data4 = pd.concat([data4, df4], ignore_index=True)\n",
    "        \n",
    "for file_path5 in file_paths5:\n",
    "    with open(file_path5, 'r', encoding='utf-8') as file5:\n",
    "        file5_contents = file5.read()\n",
    "        df5 = pd.DataFrame({'text': [file5_contents]})\n",
    "        data5 = pd.concat([data5, df5], ignore_index=True)\n",
    "        \n",
    "for file_path6 in file_paths6:\n",
    "    with open(file_path6, 'r', encoding='utf-8') as file6:\n",
    "        file6_contents = file6.read()\n",
    "        df6 = pd.DataFrame({'text': [file6_contents]})\n",
    "        data6 = pd.concat([data6, df6], ignore_index=True)\n",
    "        \n",
    "for file_path7 in file_paths7:\n",
    "    with open(file_path7, 'r', encoding='utf-8') as file7:\n",
    "        file7_contents = file7.read()\n",
    "        df7 = pd.DataFrame({'text': [file7_contents]})\n",
    "        data7 = pd.concat([data7, df7], ignore_index=True)"
   ]
  },
  {
   "cell_type": "code",
   "execution_count": 3,
   "id": "f8571034",
   "metadata": {},
   "outputs": [],
   "source": [
    "data0['category']='politics'\n",
    "data1['category']='economy'\n",
    "data2['category']='society'\n",
    "data3['category']='daily/culture'\n",
    "data4['category']='global'\n",
    "data5['category']='technology'\n",
    "data6['category']='entertainment'\n",
    "data7['category']='sports'"
   ]
  },
  {
   "cell_type": "code",
   "execution_count": 4,
   "id": "de8cd9e2",
   "metadata": {},
   "outputs": [],
   "source": [
    "all_data = pd.concat([data0, data1, data2, data3, data4, data5, data6, data7], axis=0)\n",
    "all_data.reset_index(drop=True, inplace=True)"
   ]
  },
  {
   "cell_type": "code",
   "execution_count": 5,
   "id": "b9f6f1c4",
   "metadata": {
    "scrolled": true
   },
   "outputs": [
    {
     "data": {
      "text/html": [
       "<div>\n",
       "<style scoped>\n",
       "    .dataframe tbody tr th:only-of-type {\n",
       "        vertical-align: middle;\n",
       "    }\n",
       "\n",
       "    .dataframe tbody tr th {\n",
       "        vertical-align: top;\n",
       "    }\n",
       "\n",
       "    .dataframe thead th {\n",
       "        text-align: right;\n",
       "    }\n",
       "</style>\n",
       "<table border=\"1\" class=\"dataframe\">\n",
       "  <thead>\n",
       "    <tr style=\"text-align: right;\">\n",
       "      <th></th>\n",
       "      <th>text</th>\n",
       "      <th>category</th>\n",
       "    </tr>\n",
       "  </thead>\n",
       "  <tbody>\n",
       "    <tr>\n",
       "      <th>0</th>\n",
       "      <td>동남아 담당' 北 최희철 부상 베이징 도착…싱가포르행 주목\\t최 부상, 행선지·방문...</td>\n",
       "      <td>politics</td>\n",
       "    </tr>\n",
       "    <tr>\n",
       "      <th>1</th>\n",
       "      <td>예결위, 추경 막바지 심사 진통…여야 충돌\\t(서울=연합뉴스) 김남권 기자 = 국회...</td>\n",
       "      <td>politics</td>\n",
       "    </tr>\n",
       "    <tr>\n",
       "      <th>2</th>\n",
       "      <td>외압 논란·항명 사태…산 넘고 물 건넌 권성동 영장 청구\\t안미현 검사 외압 폭로 ...</td>\n",
       "      <td>politics</td>\n",
       "    </tr>\n",
       "    <tr>\n",
       "      <th>3</th>\n",
       "      <td>친문 홍영표, 문빠에 찍혔다…특검 합의에 문자폭탄 공격\\t대표적인 친(親)문재인계인...</td>\n",
       "      <td>politics</td>\n",
       "    </tr>\n",
       "    <tr>\n",
       "      <th>4</th>\n",
       "      <td>北, 연일 南비난…韓美정상회담 전 경고성 메시지 발신\\t南, 맥스선더·태영호 등 불...</td>\n",
       "      <td>politics</td>\n",
       "    </tr>\n",
       "    <tr>\n",
       "      <th>...</th>\n",
       "      <td>...</td>\n",
       "      <td>...</td>\n",
       "    </tr>\n",
       "    <tr>\n",
       "      <th>1595</th>\n",
       "      <td>단일팀 추진' 대한카누연맹, 데상트코리아와 5년 후원 협약\\t[스포티비뉴스=조형애 ...</td>\n",
       "      <td>sports</td>\n",
       "    </tr>\n",
       "    <tr>\n",
       "      <th>1596</th>\n",
       "      <td>올림픽 성공 뒷이야기... 서울대, 16일 이희범 평창 조직위원장 초청 특강\\t[O...</td>\n",
       "      <td>sports</td>\n",
       "    </tr>\n",
       "    <tr>\n",
       "      <th>1597</th>\n",
       "      <td>21일 개막 호치민3쿠션월드컵에 149명 참가 확정\\t韓선수 46명 참가…1차 예선...</td>\n",
       "      <td>sports</td>\n",
       "    </tr>\n",
       "    <tr>\n",
       "      <th>1598</th>\n",
       "      <td>스포츠안전재단, 대축전에 안전필요성 알려\\t[스타뉴스 채준 기자]\\n\\n\\n스포츠안...</td>\n",
       "      <td>sports</td>\n",
       "    </tr>\n",
       "    <tr>\n",
       "      <th>1599</th>\n",
       "      <td>조한승 “커피 향 그윽한 30대 바둑 보이겠다”\\t[한겨레] 맥심커피배 트로피 시상...</td>\n",
       "      <td>sports</td>\n",
       "    </tr>\n",
       "  </tbody>\n",
       "</table>\n",
       "<p>1600 rows × 2 columns</p>\n",
       "</div>"
      ],
      "text/plain": [
       "                                                   text  category\n",
       "0     동남아 담당' 北 최희철 부상 베이징 도착…싱가포르행 주목\\t최 부상, 행선지·방문...  politics\n",
       "1     예결위, 추경 막바지 심사 진통…여야 충돌\\t(서울=연합뉴스) 김남권 기자 = 국회...  politics\n",
       "2     외압 논란·항명 사태…산 넘고 물 건넌 권성동 영장 청구\\t안미현 검사 외압 폭로 ...  politics\n",
       "3     친문 홍영표, 문빠에 찍혔다…특검 합의에 문자폭탄 공격\\t대표적인 친(親)문재인계인...  politics\n",
       "4     北, 연일 南비난…韓美정상회담 전 경고성 메시지 발신\\t南, 맥스선더·태영호 등 불...  politics\n",
       "...                                                 ...       ...\n",
       "1595  단일팀 추진' 대한카누연맹, 데상트코리아와 5년 후원 협약\\t[스포티비뉴스=조형애 ...    sports\n",
       "1596  올림픽 성공 뒷이야기... 서울대, 16일 이희범 평창 조직위원장 초청 특강\\t[O...    sports\n",
       "1597  21일 개막 호치민3쿠션월드컵에 149명 참가 확정\\t韓선수 46명 참가…1차 예선...    sports\n",
       "1598  스포츠안전재단, 대축전에 안전필요성 알려\\t[스타뉴스 채준 기자]\\n\\n\\n스포츠안...    sports\n",
       "1599  조한승 “커피 향 그윽한 30대 바둑 보이겠다”\\t[한겨레] 맥심커피배 트로피 시상...    sports\n",
       "\n",
       "[1600 rows x 2 columns]"
      ]
     },
     "execution_count": 5,
     "metadata": {},
     "output_type": "execute_result"
    }
   ],
   "source": [
    "all_data"
   ]
  },
  {
   "cell_type": "markdown",
   "id": "cfceac00",
   "metadata": {},
   "source": [
    "# 간단한 전처리 진행\n",
    "### 한자 제거, 이스케이프 문자 제거, 연속된 공백 하나로만"
   ]
  },
  {
   "cell_type": "code",
   "execution_count": 14,
   "id": "761c7d44",
   "metadata": {},
   "outputs": [],
   "source": [
    "import re\n",
    "\n",
    "def remove_hanja_and_special_chars(text):\n",
    "    # 한자의 유니코드 범위\n",
    "    hanja_pattern = re.compile(r'[\\u4e00-\\u9fff]')\n",
    "    \n",
    "    # 특수문자 및 이스케이프 문자 제거\n",
    "    special_char_pattern = re.compile(r'[^\\w\\s.]')  # 마침표는 제거하지 않음\n",
    "\n",
    "    # 한자 및 특수문자 제거\n",
    "    cleaned_text = re.sub(hanja_pattern, '', text)\n",
    "    cleaned_text = re.sub(special_char_pattern, '', cleaned_text)\n",
    "    \n",
    "    # \\n과 \\t를 띄어쓰기로 대체\n",
    "    cleaned_text = cleaned_text.replace('\\n', ' ').replace('\\t', ' ')\n",
    "    \n",
    "    # 연속된 공백을 하나로 대체\n",
    "    cleaned_text = re.sub(r'\\s+', ' ', cleaned_text)\n",
    "\n",
    "    return cleaned_text\n",
    "\n",
    "# 기자 제거 함수(000 기자)\n",
    "def remove_reporter_names(text):\n",
    "    surnames = ['곽', '이', '박', '최', '정', '강', '조', '윤', '장', '송', '임', '오', '한', '신', '전', '황', '고', '문', '심', '권', '남', '양', '서', '변', '김', '홍', '류', '서', '주', '손', '안', '백', '채']\n",
    "    for surname in surnames:\n",
    "        text = re.sub(r'\\b' + surname + r'[가-힣]{1,2}\\s기자\\b', ' ', text)\n",
    "    return text\n",
    "\n",
    "# 언론사 제거\n",
    "def remove_stopwords(text):\n",
    "    with open(r\"C:/Users/82102/Desktop/Baf_News_Category_Classification/newsname.txt\", encoding='utf-8') as f:\n",
    "        stopwords = [word.strip() for word in f.readlines()]\n",
    "    words = text.split()\n",
    "    filtered_words = [word for word in words if word not in stopwords]\n",
    "    filtered_text = ' '.join(filtered_words)\n",
    "    return filtered_text"
   ]
  },
  {
   "cell_type": "code",
   "execution_count": 15,
   "id": "43f8d969",
   "metadata": {
    "scrolled": false
   },
   "outputs": [
    {
     "data": {
      "text/html": [
       "<div>\n",
       "<style scoped>\n",
       "    .dataframe tbody tr th:only-of-type {\n",
       "        vertical-align: middle;\n",
       "    }\n",
       "\n",
       "    .dataframe tbody tr th {\n",
       "        vertical-align: top;\n",
       "    }\n",
       "\n",
       "    .dataframe thead th {\n",
       "        text-align: right;\n",
       "    }\n",
       "</style>\n",
       "<table border=\"1\" class=\"dataframe\">\n",
       "  <thead>\n",
       "    <tr style=\"text-align: right;\">\n",
       "      <th></th>\n",
       "      <th>text</th>\n",
       "      <th>category</th>\n",
       "    </tr>\n",
       "  </thead>\n",
       "  <tbody>\n",
       "    <tr>\n",
       "      <th>0</th>\n",
       "      <td>동남아 담당 최희철 부상 베이징 도착싱가포르행 주목 최 부상 행선지방문 목적 질문에...</td>\n",
       "      <td>politics</td>\n",
       "    </tr>\n",
       "    <tr>\n",
       "      <th>1</th>\n",
       "      <td>예결위 추경 막바지 심사 진통여야 충돌 서울연합뉴스 국회 예산결산특별위원회는 19일...</td>\n",
       "      <td>politics</td>\n",
       "    </tr>\n",
       "    <tr>\n",
       "      <th>2</th>\n",
       "      <td>외압 논란항명 사태산 넘고 물 건넌 권성동 영장 청구 안미현 검사 외압 폭로 파문으...</td>\n",
       "      <td>politics</td>\n",
       "    </tr>\n",
       "    <tr>\n",
       "      <th>3</th>\n",
       "      <td>친문 홍영표 문빠에 찍혔다특검 합의에 문자폭탄 공격 대표적인 친문재인계인 홍영표 더...</td>\n",
       "      <td>politics</td>\n",
       "    </tr>\n",
       "    <tr>\n",
       "      <th>4</th>\n",
       "      <td>연일 비난정상회담 전 경고성 메시지 발신 맥스선더태영호 등 불만 표시 최종타켓조율 ...</td>\n",
       "      <td>politics</td>\n",
       "    </tr>\n",
       "    <tr>\n",
       "      <th>...</th>\n",
       "      <td>...</td>\n",
       "      <td>...</td>\n",
       "    </tr>\n",
       "    <tr>\n",
       "      <th>1595</th>\n",
       "      <td>단일팀 추진 대한카누연맹 데상트코리아와 5년 후원 협약 스포티비뉴스조형애 대한카누연...</td>\n",
       "      <td>sports</td>\n",
       "    </tr>\n",
       "    <tr>\n",
       "      <th>1596</th>\n",
       "      <td>올림픽 성공 뒷이야기... 서울대 16일 이희범 평창 조직위원장 초청 특강 OSEN...</td>\n",
       "      <td>sports</td>\n",
       "    </tr>\n",
       "    <tr>\n",
       "      <th>1597</th>\n",
       "      <td>21일 개막 호치민3쿠션월드컵에 149명 참가 확정 선수 46명 참가1차 예선에 2...</td>\n",
       "      <td>sports</td>\n",
       "    </tr>\n",
       "    <tr>\n",
       "      <th>1598</th>\n",
       "      <td>스포츠안전재단 대축전에 안전필요성 알려 스포츠안전재단이 대축전과 장애학생체육대회에서...</td>\n",
       "      <td>sports</td>\n",
       "    </tr>\n",
       "    <tr>\n",
       "      <th>1599</th>\n",
       "      <td>조한승 커피 향 그윽한 30대 바둑 보이겠다 맥심커피배 트로피 시상식 열려 우승도 ...</td>\n",
       "      <td>sports</td>\n",
       "    </tr>\n",
       "  </tbody>\n",
       "</table>\n",
       "<p>1600 rows × 2 columns</p>\n",
       "</div>"
      ],
      "text/plain": [
       "                                                   text  category\n",
       "0     동남아 담당 최희철 부상 베이징 도착싱가포르행 주목 최 부상 행선지방문 목적 질문에...  politics\n",
       "1     예결위 추경 막바지 심사 진통여야 충돌 서울연합뉴스 국회 예산결산특별위원회는 19일...  politics\n",
       "2     외압 논란항명 사태산 넘고 물 건넌 권성동 영장 청구 안미현 검사 외압 폭로 파문으...  politics\n",
       "3     친문 홍영표 문빠에 찍혔다특검 합의에 문자폭탄 공격 대표적인 친문재인계인 홍영표 더...  politics\n",
       "4     연일 비난정상회담 전 경고성 메시지 발신 맥스선더태영호 등 불만 표시 최종타켓조율 ...  politics\n",
       "...                                                 ...       ...\n",
       "1595  단일팀 추진 대한카누연맹 데상트코리아와 5년 후원 협약 스포티비뉴스조형애 대한카누연...    sports\n",
       "1596  올림픽 성공 뒷이야기... 서울대 16일 이희범 평창 조직위원장 초청 특강 OSEN...    sports\n",
       "1597  21일 개막 호치민3쿠션월드컵에 149명 참가 확정 선수 46명 참가1차 예선에 2...    sports\n",
       "1598  스포츠안전재단 대축전에 안전필요성 알려 스포츠안전재단이 대축전과 장애학생체육대회에서...    sports\n",
       "1599  조한승 커피 향 그윽한 30대 바둑 보이겠다 맥심커피배 트로피 시상식 열려 우승도 ...    sports\n",
       "\n",
       "[1600 rows x 2 columns]"
      ]
     },
     "execution_count": 15,
     "metadata": {},
     "output_type": "execute_result"
    }
   ],
   "source": [
    "all_data['text'] = all_data['text'].apply(remove_hanja_and_special_chars)\n",
    "all_data['text'] = all_data['text'].apply(remove_reporter_names)\n",
    "all_data['text'] = all_data['text'].apply(remove_stopwords)\n",
    "all_data"
   ]
  },
  {
   "cell_type": "markdown",
   "id": "cc8af640",
   "metadata": {},
   "source": [
    "# 중복 기사 확인 -> 하나만 사용\n",
    "## 동일한 기사가 다른 카테고리에 같이 존재한다거나, 동일 카테고리에 두 개 들어있는 경우가 존재함"
   ]
  },
  {
   "cell_type": "code",
   "execution_count": 18,
   "id": "2c68524c",
   "metadata": {
    "scrolled": true
   },
   "outputs": [
    {
     "data": {
      "text/html": [
       "<div>\n",
       "<style scoped>\n",
       "    .dataframe tbody tr th:only-of-type {\n",
       "        vertical-align: middle;\n",
       "    }\n",
       "\n",
       "    .dataframe tbody tr th {\n",
       "        vertical-align: top;\n",
       "    }\n",
       "\n",
       "    .dataframe thead th {\n",
       "        text-align: right;\n",
       "    }\n",
       "</style>\n",
       "<table border=\"1\" class=\"dataframe\">\n",
       "  <thead>\n",
       "    <tr style=\"text-align: right;\">\n",
       "      <th></th>\n",
       "      <th>text</th>\n",
       "      <th>category</th>\n",
       "    </tr>\n",
       "  </thead>\n",
       "  <tbody>\n",
       "    <tr>\n",
       "      <th>44</th>\n",
       "      <td>북한 청와대 적시하며 파렴치 맹비난회담 재개 난망 리선권 조평통 위원장 격한 어조로...</td>\n",
       "      <td>politics</td>\n",
       "    </tr>\n",
       "    <tr>\n",
       "      <th>96</th>\n",
       "      <td>원희룡에 달려들어 계란 던지고 폭행흉기로 자해 시도 앵커 제주시에서 열린 제주도지사...</td>\n",
       "      <td>politics</td>\n",
       "    </tr>\n",
       "    <tr>\n",
       "      <th>99</th>\n",
       "      <td>드루킹 특검 가시화대선 전 댓글조작김경수 연루여부 핵심 2016년 10월부터 9만건...</td>\n",
       "      <td>politics</td>\n",
       "    </tr>\n",
       "    <tr>\n",
       "      <th>106</th>\n",
       "      <td>해외 은닉 재산 환수기구 추진조양호최순실 등 정조준 문 대통령 해외 은닉 재산 반드...</td>\n",
       "      <td>politics</td>\n",
       "    </tr>\n",
       "    <tr>\n",
       "      <th>168</th>\n",
       "      <td>단독 MB 국정원 권양숙 여사 미행에 감시까지 앵커 고 노무현 전 대통령의 부인 권...</td>\n",
       "      <td>politics</td>\n",
       "    </tr>\n",
       "    <tr>\n",
       "      <th>293</th>\n",
       "      <td>전세금 떼일라 전전긍긍세입자 위한 안전장치 앵커 올 들어 역전세난이 나타나면서 집주...</td>\n",
       "      <td>economy</td>\n",
       "    </tr>\n",
       "    <tr>\n",
       "      <th>347</th>\n",
       "      <td>삼성증권 사태 예견된 참사 20년간 일감 몰아주기 앵커 이번 삼성증권 사태에서는 사...</td>\n",
       "      <td>economy</td>\n",
       "    </tr>\n",
       "    <tr>\n",
       "      <th>358</th>\n",
       "      <td>삼성바이오 금감원 반발 수위 높인다불공평 게임 알릴 것종합 서울연합뉴스 분식 회계 ...</td>\n",
       "      <td>economy</td>\n",
       "    </tr>\n",
       "    <tr>\n",
       "      <th>442</th>\n",
       "      <td>3개월 연속 취업자 증가 10만명대..10년 전 금융위기 수준상보 통계청 4월 고용...</td>\n",
       "      <td>society</td>\n",
       "    </tr>\n",
       "    <tr>\n",
       "      <th>498</th>\n",
       "      <td>10년 알던 후배 살해암매장 40대 구속동기 진술 거부 증거 인멸 및 도망 우려 서...</td>\n",
       "      <td>society</td>\n",
       "    </tr>\n",
       "    <tr>\n",
       "      <th>544</th>\n",
       "      <td>신도 상습 성폭행 이재록 목사 구속범죄 혐의 소명 여신도 6명 고소장 접수해 수사경...</td>\n",
       "      <td>society</td>\n",
       "    </tr>\n",
       "    <tr>\n",
       "      <th>590</th>\n",
       "      <td>약물 주입 아내 살인 의사 수술중 환자 사망 드러나다시 법정에 대전ㆍ충남뉴스1 수면...</td>\n",
       "      <td>society</td>\n",
       "    </tr>\n",
       "    <tr>\n",
       "      <th>598</th>\n",
       "      <td>단역배우 자매 사건 피고소인들 자매 모친에 억대 손배소 가해 의혹 관련자 3명 의혹...</td>\n",
       "      <td>society</td>\n",
       "    </tr>\n",
       "    <tr>\n",
       "      <th>621</th>\n",
       "      <td>날씨주말 포근하고 맑은 하늘미세먼지 좋음 비바람에 어수선했던 날씨가 많이 잠잠해진 ...</td>\n",
       "      <td>daily/culture</td>\n",
       "    </tr>\n",
       "    <tr>\n",
       "      <th>639</th>\n",
       "      <td>날씨 새벽부터 아침 사이 중부 강한 비...벼락바람 주의 때 이른 여름 더위에 이어...</td>\n",
       "      <td>daily/culture</td>\n",
       "    </tr>\n",
       "    <tr>\n",
       "      <th>710</th>\n",
       "      <td>날씨전국 흐리고 곳곳 비바람 강해 쌀쌀 리포트 고생많으셨습니다. 이렇게 비가 오는 ...</td>\n",
       "      <td>daily/culture</td>\n",
       "    </tr>\n",
       "    <tr>\n",
       "      <th>714</th>\n",
       "      <td>몸에 좋은 음식이 암환자에겐 독 가족 중에 암환자가 있으면 암에 좋다는 약재나 보약...</td>\n",
       "      <td>daily/culture</td>\n",
       "    </tr>\n",
       "    <tr>\n",
       "      <th>772</th>\n",
       "      <td>단체손님 태우려 항공기 1시간 10분 지연일반승객 분통종합 부산연합뉴스 차근호 항공...</td>\n",
       "      <td>daily/culture</td>\n",
       "    </tr>\n",
       "    <tr>\n",
       "      <th>777</th>\n",
       "      <td>한국GM 단체협약 내용 보니..운전보조금 없애고 본인학자금 폐지 피용익 한국GM 노...</td>\n",
       "      <td>daily/culture</td>\n",
       "    </tr>\n",
       "    <tr>\n",
       "      <th>958</th>\n",
       "      <td>비핵화 입증 후에나 주한미군 철수 가능 CNN 백악관 소식통 인용 에서 핵무기 사라...</td>\n",
       "      <td>global</td>\n",
       "    </tr>\n",
       "    <tr>\n",
       "      <th>1064</th>\n",
       "      <td>카톡멜론카카오 카카오 카카오M 합병 카카오M 내 지적재산권 따로 사업화할 별도 법인...</td>\n",
       "      <td>technology</td>\n",
       "    </tr>\n",
       "    <tr>\n",
       "      <th>1066</th>\n",
       "      <td>자율주행차 사고 나면 누구 책임 제도는 무방비 앵커 보신 것처럼 자율주행차량 기술은...</td>\n",
       "      <td>technology</td>\n",
       "    </tr>\n",
       "    <tr>\n",
       "      <th>1071</th>\n",
       "      <td>아하 우주 133억 광년 최장거리 은하 발견우주의 새벽에 한발짝 더 나우뉴스 132...</td>\n",
       "      <td>technology</td>\n",
       "    </tr>\n",
       "    <tr>\n",
       "      <th>1124</th>\n",
       "      <td>와우 과학 20대 몸으로 130세까지 생존불로장생 가능하다 나우뉴스 미국 하버드대학...</td>\n",
       "      <td>technology</td>\n",
       "    </tr>\n",
       "    <tr>\n",
       "      <th>1140</th>\n",
       "      <td>와우 과학 7억 년 전 눈덩이 지구를 만든 용의자는 나우뉴스 지금으로부터 약 7억 ...</td>\n",
       "      <td>technology</td>\n",
       "    </tr>\n",
       "    <tr>\n",
       "      <th>1182</th>\n",
       "      <td>아하 우주 50억 년 후 태양은 소멸행성상 성운으로 빛난다 나우뉴스 영원히 존재할 ...</td>\n",
       "      <td>technology</td>\n",
       "    </tr>\n",
       "    <tr>\n",
       "      <th>1230</th>\n",
       "      <td>종합 같이 살래요 한지혜 김윤경 머리에 물세례 사이다 복수 엑스포츠뉴스 같이 살래요...</td>\n",
       "      <td>entertainment</td>\n",
       "    </tr>\n",
       "    <tr>\n",
       "      <th>1290</th>\n",
       "      <td>X와이프빚...미우새 김수미 이상민 당황시킨 폭탄입담종합 헤럴드POP원해선 김수미는...</td>\n",
       "      <td>entertainment</td>\n",
       "    </tr>\n",
       "    <tr>\n",
       "      <th>1381</th>\n",
       "      <td>자나깨나 여자조심...살림남2 미나류필립 부부 갈등종합 헤럴드POP원해선 미나가 남...</td>\n",
       "      <td>entertainment</td>\n",
       "    </tr>\n",
       "  </tbody>\n",
       "</table>\n",
       "</div>"
      ],
      "text/plain": [
       "                                                   text       category\n",
       "44    북한 청와대 적시하며 파렴치 맹비난회담 재개 난망 리선권 조평통 위원장 격한 어조로...       politics\n",
       "96    원희룡에 달려들어 계란 던지고 폭행흉기로 자해 시도 앵커 제주시에서 열린 제주도지사...       politics\n",
       "99    드루킹 특검 가시화대선 전 댓글조작김경수 연루여부 핵심 2016년 10월부터 9만건...       politics\n",
       "106   해외 은닉 재산 환수기구 추진조양호최순실 등 정조준 문 대통령 해외 은닉 재산 반드...       politics\n",
       "168   단독 MB 국정원 권양숙 여사 미행에 감시까지 앵커 고 노무현 전 대통령의 부인 권...       politics\n",
       "293   전세금 떼일라 전전긍긍세입자 위한 안전장치 앵커 올 들어 역전세난이 나타나면서 집주...        economy\n",
       "347   삼성증권 사태 예견된 참사 20년간 일감 몰아주기 앵커 이번 삼성증권 사태에서는 사...        economy\n",
       "358   삼성바이오 금감원 반발 수위 높인다불공평 게임 알릴 것종합 서울연합뉴스 분식 회계 ...        economy\n",
       "442   3개월 연속 취업자 증가 10만명대..10년 전 금융위기 수준상보 통계청 4월 고용...        society\n",
       "498   10년 알던 후배 살해암매장 40대 구속동기 진술 거부 증거 인멸 및 도망 우려 서...        society\n",
       "544   신도 상습 성폭행 이재록 목사 구속범죄 혐의 소명 여신도 6명 고소장 접수해 수사경...        society\n",
       "590   약물 주입 아내 살인 의사 수술중 환자 사망 드러나다시 법정에 대전ㆍ충남뉴스1 수면...        society\n",
       "598   단역배우 자매 사건 피고소인들 자매 모친에 억대 손배소 가해 의혹 관련자 3명 의혹...        society\n",
       "621   날씨주말 포근하고 맑은 하늘미세먼지 좋음 비바람에 어수선했던 날씨가 많이 잠잠해진 ...  daily/culture\n",
       "639   날씨 새벽부터 아침 사이 중부 강한 비...벼락바람 주의 때 이른 여름 더위에 이어...  daily/culture\n",
       "710   날씨전국 흐리고 곳곳 비바람 강해 쌀쌀 리포트 고생많으셨습니다. 이렇게 비가 오는 ...  daily/culture\n",
       "714   몸에 좋은 음식이 암환자에겐 독 가족 중에 암환자가 있으면 암에 좋다는 약재나 보약...  daily/culture\n",
       "772   단체손님 태우려 항공기 1시간 10분 지연일반승객 분통종합 부산연합뉴스 차근호 항공...  daily/culture\n",
       "777   한국GM 단체협약 내용 보니..운전보조금 없애고 본인학자금 폐지 피용익 한국GM 노...  daily/culture\n",
       "958   비핵화 입증 후에나 주한미군 철수 가능 CNN 백악관 소식통 인용 에서 핵무기 사라...         global\n",
       "1064  카톡멜론카카오 카카오 카카오M 합병 카카오M 내 지적재산권 따로 사업화할 별도 법인...     technology\n",
       "1066  자율주행차 사고 나면 누구 책임 제도는 무방비 앵커 보신 것처럼 자율주행차량 기술은...     technology\n",
       "1071  아하 우주 133억 광년 최장거리 은하 발견우주의 새벽에 한발짝 더 나우뉴스 132...     technology\n",
       "1124  와우 과학 20대 몸으로 130세까지 생존불로장생 가능하다 나우뉴스 미국 하버드대학...     technology\n",
       "1140  와우 과학 7억 년 전 눈덩이 지구를 만든 용의자는 나우뉴스 지금으로부터 약 7억 ...     technology\n",
       "1182  아하 우주 50억 년 후 태양은 소멸행성상 성운으로 빛난다 나우뉴스 영원히 존재할 ...     technology\n",
       "1230  종합 같이 살래요 한지혜 김윤경 머리에 물세례 사이다 복수 엑스포츠뉴스 같이 살래요...  entertainment\n",
       "1290  X와이프빚...미우새 김수미 이상민 당황시킨 폭탄입담종합 헤럴드POP원해선 김수미는...  entertainment\n",
       "1381  자나깨나 여자조심...살림남2 미나류필립 부부 갈등종합 헤럴드POP원해선 미나가 남...  entertainment"
      ]
     },
     "execution_count": 18,
     "metadata": {},
     "output_type": "execute_result"
    }
   ],
   "source": [
    "all_data[all_data['text'].duplicated()]"
   ]
  },
  {
   "cell_type": "code",
   "execution_count": 19,
   "id": "3770636e",
   "metadata": {},
   "outputs": [],
   "source": [
    "all_data.drop_duplicates(keep='first', inplace=True)\n",
    "all_data.reset_index(drop=True, inplace=True)"
   ]
  },
  {
   "cell_type": "code",
   "execution_count": 20,
   "id": "cdd72427",
   "metadata": {},
   "outputs": [
    {
     "data": {
      "text/html": [
       "<div>\n",
       "<style scoped>\n",
       "    .dataframe tbody tr th:only-of-type {\n",
       "        vertical-align: middle;\n",
       "    }\n",
       "\n",
       "    .dataframe tbody tr th {\n",
       "        vertical-align: top;\n",
       "    }\n",
       "\n",
       "    .dataframe thead th {\n",
       "        text-align: right;\n",
       "    }\n",
       "</style>\n",
       "<table border=\"1\" class=\"dataframe\">\n",
       "  <thead>\n",
       "    <tr style=\"text-align: right;\">\n",
       "      <th></th>\n",
       "      <th>text</th>\n",
       "      <th>category</th>\n",
       "    </tr>\n",
       "  </thead>\n",
       "  <tbody>\n",
       "    <tr>\n",
       "      <th>0</th>\n",
       "      <td>동남아 담당 최희철 부상 베이징 도착싱가포르행 주목 최 부상 행선지방문 목적 질문에...</td>\n",
       "      <td>politics</td>\n",
       "    </tr>\n",
       "    <tr>\n",
       "      <th>1</th>\n",
       "      <td>예결위 추경 막바지 심사 진통여야 충돌 서울연합뉴스 국회 예산결산특별위원회는 19일...</td>\n",
       "      <td>politics</td>\n",
       "    </tr>\n",
       "    <tr>\n",
       "      <th>2</th>\n",
       "      <td>외압 논란항명 사태산 넘고 물 건넌 권성동 영장 청구 안미현 검사 외압 폭로 파문으...</td>\n",
       "      <td>politics</td>\n",
       "    </tr>\n",
       "    <tr>\n",
       "      <th>3</th>\n",
       "      <td>친문 홍영표 문빠에 찍혔다특검 합의에 문자폭탄 공격 대표적인 친문재인계인 홍영표 더...</td>\n",
       "      <td>politics</td>\n",
       "    </tr>\n",
       "    <tr>\n",
       "      <th>4</th>\n",
       "      <td>연일 비난정상회담 전 경고성 메시지 발신 맥스선더태영호 등 불만 표시 최종타켓조율 ...</td>\n",
       "      <td>politics</td>\n",
       "    </tr>\n",
       "    <tr>\n",
       "      <th>...</th>\n",
       "      <td>...</td>\n",
       "      <td>...</td>\n",
       "    </tr>\n",
       "    <tr>\n",
       "      <th>1567</th>\n",
       "      <td>단일팀 추진 대한카누연맹 데상트코리아와 5년 후원 협약 스포티비뉴스조형애 대한카누연...</td>\n",
       "      <td>sports</td>\n",
       "    </tr>\n",
       "    <tr>\n",
       "      <th>1568</th>\n",
       "      <td>올림픽 성공 뒷이야기... 서울대 16일 이희범 평창 조직위원장 초청 특강 OSEN...</td>\n",
       "      <td>sports</td>\n",
       "    </tr>\n",
       "    <tr>\n",
       "      <th>1569</th>\n",
       "      <td>21일 개막 호치민3쿠션월드컵에 149명 참가 확정 선수 46명 참가1차 예선에 2...</td>\n",
       "      <td>sports</td>\n",
       "    </tr>\n",
       "    <tr>\n",
       "      <th>1570</th>\n",
       "      <td>스포츠안전재단 대축전에 안전필요성 알려 스포츠안전재단이 대축전과 장애학생체육대회에서...</td>\n",
       "      <td>sports</td>\n",
       "    </tr>\n",
       "    <tr>\n",
       "      <th>1571</th>\n",
       "      <td>조한승 커피 향 그윽한 30대 바둑 보이겠다 맥심커피배 트로피 시상식 열려 우승도 ...</td>\n",
       "      <td>sports</td>\n",
       "    </tr>\n",
       "  </tbody>\n",
       "</table>\n",
       "<p>1572 rows × 2 columns</p>\n",
       "</div>"
      ],
      "text/plain": [
       "                                                   text  category\n",
       "0     동남아 담당 최희철 부상 베이징 도착싱가포르행 주목 최 부상 행선지방문 목적 질문에...  politics\n",
       "1     예결위 추경 막바지 심사 진통여야 충돌 서울연합뉴스 국회 예산결산특별위원회는 19일...  politics\n",
       "2     외압 논란항명 사태산 넘고 물 건넌 권성동 영장 청구 안미현 검사 외압 폭로 파문으...  politics\n",
       "3     친문 홍영표 문빠에 찍혔다특검 합의에 문자폭탄 공격 대표적인 친문재인계인 홍영표 더...  politics\n",
       "4     연일 비난정상회담 전 경고성 메시지 발신 맥스선더태영호 등 불만 표시 최종타켓조율 ...  politics\n",
       "...                                                 ...       ...\n",
       "1567  단일팀 추진 대한카누연맹 데상트코리아와 5년 후원 협약 스포티비뉴스조형애 대한카누연...    sports\n",
       "1568  올림픽 성공 뒷이야기... 서울대 16일 이희범 평창 조직위원장 초청 특강 OSEN...    sports\n",
       "1569  21일 개막 호치민3쿠션월드컵에 149명 참가 확정 선수 46명 참가1차 예선에 2...    sports\n",
       "1570  스포츠안전재단 대축전에 안전필요성 알려 스포츠안전재단이 대축전과 장애학생체육대회에서...    sports\n",
       "1571  조한승 커피 향 그윽한 30대 바둑 보이겠다 맥심커피배 트로피 시상식 열려 우승도 ...    sports\n",
       "\n",
       "[1572 rows x 2 columns]"
      ]
     },
     "execution_count": 20,
     "metadata": {},
     "output_type": "execute_result"
    }
   ],
   "source": [
    "all_data"
   ]
  },
  {
   "cell_type": "code",
   "execution_count": 21,
   "id": "4ab15d0c",
   "metadata": {},
   "outputs": [],
   "source": [
    "# from sklearn.feature_extraction.text import TfidfVectorizer\n",
    "# from sklearn.model_selection import train_test_split\n",
    "import konlpy\n",
    "import numpy as np"
   ]
  },
  {
   "cell_type": "code",
   "execution_count": 34,
   "id": "67903418",
   "metadata": {
    "scrolled": true
   },
   "outputs": [
    {
     "name": "stdout",
     "output_type": "stream",
     "text": [
      "Requirement already satisfied: nltk in c:\\programdata\\anaconda3\\lib\\site-packages (3.6.5)\n",
      "Requirement already satisfied: click in c:\\programdata\\anaconda3\\lib\\site-packages (from nltk) (8.0.3)\n",
      "Requirement already satisfied: joblib in c:\\programdata\\anaconda3\\lib\\site-packages (from nltk) (1.1.0)\n",
      "Requirement already satisfied: regex>=2021.8.3 in c:\\programdata\\anaconda3\\lib\\site-packages (from nltk) (2021.8.3)\n",
      "Requirement already satisfied: tqdm in c:\\programdata\\anaconda3\\lib\\site-packages (from nltk) (4.62.3)\n",
      "Requirement already satisfied: colorama in c:\\programdata\\anaconda3\\lib\\site-packages (from click->nltk) (0.4.4)\n",
      "Note: you may need to restart the kernel to use updated packages.\n"
     ]
    },
    {
     "name": "stderr",
     "output_type": "stream",
     "text": [
      "WARNING: Ignoring invalid distribution -umpy (c:\\programdata\\anaconda3\\lib\\site-packages)\n",
      "WARNING: Ignoring invalid distribution - (c:\\programdata\\anaconda3\\lib\\site-packages)\n",
      "WARNING: Ignoring invalid distribution -umpy (c:\\programdata\\anaconda3\\lib\\site-packages)\n",
      "WARNING: Ignoring invalid distribution - (c:\\programdata\\anaconda3\\lib\\site-packages)\n",
      "WARNING: Ignoring invalid distribution -umpy (c:\\programdata\\anaconda3\\lib\\site-packages)\n",
      "WARNING: Ignoring invalid distribution - (c:\\programdata\\anaconda3\\lib\\site-packages)\n",
      "WARNING: Ignoring invalid distribution -umpy (c:\\programdata\\anaconda3\\lib\\site-packages)\n",
      "WARNING: Ignoring invalid distribution - (c:\\programdata\\anaconda3\\lib\\site-packages)\n",
      "WARNING: Ignoring invalid distribution -umpy (c:\\programdata\\anaconda3\\lib\\site-packages)\n",
      "WARNING: Ignoring invalid distribution - (c:\\programdata\\anaconda3\\lib\\site-packages)\n",
      "WARNING: Ignoring invalid distribution -umpy (c:\\programdata\\anaconda3\\lib\\site-packages)\n",
      "WARNING: Ignoring invalid distribution - (c:\\programdata\\anaconda3\\lib\\site-packages)\n"
     ]
    }
   ],
   "source": [
    "pip install nltk"
   ]
  },
  {
   "cell_type": "code",
   "execution_count": 22,
   "id": "cceefd28",
   "metadata": {
    "scrolled": true
   },
   "outputs": [
    {
     "name": "stderr",
     "output_type": "stream",
     "text": [
      "C:\\ProgramData\\Anaconda3\\lib\\site-packages\\scipy\\__init__.py:146: UserWarning: A NumPy version >=1.16.5 and <1.23.0 is required for this version of SciPy (detected version 1.26.0\n",
      "  warnings.warn(f\"A NumPy version >={np_minversion} and <{np_maxversion}\"\n"
     ]
    }
   ],
   "source": [
    "import nltk"
   ]
  },
  {
   "cell_type": "code",
   "execution_count": 23,
   "id": "26e2f92d",
   "metadata": {},
   "outputs": [],
   "source": [
    "#텍스트 정제 (형태소 분석)\n",
    "def clean_korean_documents(documents):\n",
    "    for i, document in enumerate(documents):\n",
    "        okt = konlpy.tag.Okt()\n",
    "        clean_words = []\n",
    "        for word in okt.pos(document, stem=True): # stem : 어간 추출\n",
    "            if word[1] in ['Noun']: #명사, 동사, 형용사, 'Verb', 'Adjective'\n",
    "                clean_words.append(word[0])\n",
    "        document = ' '.join(clean_words)\n",
    "        documents[i] = document\n",
    "      \n",
    "    #텍스트 정제 (불용어 제거)\n",
    "    df = pd.read_csv('C:/Users/82102/Desktop/Baf_News_Category_Classification/stopword.txt', header=None)\n",
    "    #df[0] = df[0].apply(lambda x: x.strip())\n",
    "    stopwords = df[0].to_numpy()\n",
    "    nltk.download('punkt')\n",
    "    for i, document in enumerate(documents):\n",
    "        clean_words = [] \n",
    "        for word in nltk.tokenize.word_tokenize(document): \n",
    "            if word not in stopwords: #불용어 제거\n",
    "                clean_words.append(word)\n",
    "        documents[i] = ' '.join(clean_words)  \n",
    "\n",
    "    return documents"
   ]
  },
  {
   "cell_type": "code",
   "execution_count": 24,
   "id": "f8bcaa40",
   "metadata": {
    "scrolled": false
   },
   "outputs": [
    {
     "name": "stderr",
     "output_type": "stream",
     "text": [
      "[nltk_data] Downloading package punkt to\n",
      "[nltk_data]     C:\\Users\\82102\\AppData\\Roaming\\nltk_data...\n",
      "[nltk_data]   Package punkt is already up-to-date!\n"
     ]
    },
    {
     "data": {
      "text/plain": [
       "0       동남아 담당 최희 철 부상 베이징 도착 싱가포르 행 주목 최 부상 행선 방문 목적 ...\n",
       "1       결위 추경 막바지 심사 진통 여야 충돌 서울 연합뉴스 국회 예산 결산 특별 위원회 ...\n",
       "2       외압 논란 항 태산 물 권성동 영장 청구 안 미현 검사 외압 폭로 파문 별도 사단 ...\n",
       "3       친문 홍영표 문빠 특검 합의 문자 폭탄 공격 대표 친 문재인 홍영표 민주당 신임 원...\n",
       "4       연일 비난 정상회담 전 경고 메시지 발신 맥스 선더 태 영호 불만 표시 최종 조율 ...\n",
       "                              ...                        \n",
       "1567    단일 팀 추진 카누 연맹 데 트 코리아 후원 협약 스포 티비 조형 애 카누 연맹 스...\n",
       "1568    올림픽 성공 뒷이야기 서울대 이희범 평창 조직 위원장 초청 특강 이인환 서울대학교 ...\n",
       "1569    개막 호치민 쿠션 월드컵 명 참가 확정 선수 명 참가 차 예선 명 출전 김행 직 최...\n",
       "1570    스포츠 안전 재단 축전 안전 필요성 스포츠 안전 재단 축전 장애 학생 체육대회 안 ...\n",
       "1571    조한승 커피 향 그윽 바둑 맥심커피배 트로피 시상식 우승 커피 향 그윽 남자 반상 ...\n",
       "Name: text, Length: 1572, dtype: object"
      ]
     },
     "execution_count": 24,
     "metadata": {},
     "output_type": "execute_result"
    }
   ],
   "source": [
    "clean_korean_documents(all_data['text'])"
   ]
  },
  {
   "cell_type": "code",
   "execution_count": 25,
   "id": "6ed79fdd",
   "metadata": {},
   "outputs": [
    {
     "data": {
      "text/html": [
       "<div>\n",
       "<style scoped>\n",
       "    .dataframe tbody tr th:only-of-type {\n",
       "        vertical-align: middle;\n",
       "    }\n",
       "\n",
       "    .dataframe tbody tr th {\n",
       "        vertical-align: top;\n",
       "    }\n",
       "\n",
       "    .dataframe thead th {\n",
       "        text-align: right;\n",
       "    }\n",
       "</style>\n",
       "<table border=\"1\" class=\"dataframe\">\n",
       "  <thead>\n",
       "    <tr style=\"text-align: right;\">\n",
       "      <th></th>\n",
       "      <th>text</th>\n",
       "      <th>category</th>\n",
       "    </tr>\n",
       "  </thead>\n",
       "  <tbody>\n",
       "    <tr>\n",
       "      <th>0</th>\n",
       "      <td>동남아 담당 최희 철 부상 베이징 도착 싱가포르 행 주목 최 부상 행선 방문 목적 ...</td>\n",
       "      <td>politics</td>\n",
       "    </tr>\n",
       "    <tr>\n",
       "      <th>1</th>\n",
       "      <td>결위 추경 막바지 심사 진통 여야 충돌 서울 연합뉴스 국회 예산 결산 특별 위원회 ...</td>\n",
       "      <td>politics</td>\n",
       "    </tr>\n",
       "    <tr>\n",
       "      <th>2</th>\n",
       "      <td>외압 논란 항 태산 물 권성동 영장 청구 안 미현 검사 외압 폭로 파문 별도 사단 ...</td>\n",
       "      <td>politics</td>\n",
       "    </tr>\n",
       "    <tr>\n",
       "      <th>3</th>\n",
       "      <td>친문 홍영표 문빠 특검 합의 문자 폭탄 공격 대표 친 문재인 홍영표 민주당 신임 원...</td>\n",
       "      <td>politics</td>\n",
       "    </tr>\n",
       "    <tr>\n",
       "      <th>4</th>\n",
       "      <td>연일 비난 정상회담 전 경고 메시지 발신 맥스 선더 태 영호 불만 표시 최종 조율 ...</td>\n",
       "      <td>politics</td>\n",
       "    </tr>\n",
       "    <tr>\n",
       "      <th>...</th>\n",
       "      <td>...</td>\n",
       "      <td>...</td>\n",
       "    </tr>\n",
       "    <tr>\n",
       "      <th>1567</th>\n",
       "      <td>단일 팀 추진 카누 연맹 데 트 코리아 후원 협약 스포 티비 조형 애 카누 연맹 스...</td>\n",
       "      <td>sports</td>\n",
       "    </tr>\n",
       "    <tr>\n",
       "      <th>1568</th>\n",
       "      <td>올림픽 성공 뒷이야기 서울대 이희범 평창 조직 위원장 초청 특강 이인환 서울대학교 ...</td>\n",
       "      <td>sports</td>\n",
       "    </tr>\n",
       "    <tr>\n",
       "      <th>1569</th>\n",
       "      <td>개막 호치민 쿠션 월드컵 명 참가 확정 선수 명 참가 차 예선 명 출전 김행 직 최...</td>\n",
       "      <td>sports</td>\n",
       "    </tr>\n",
       "    <tr>\n",
       "      <th>1570</th>\n",
       "      <td>스포츠 안전 재단 축전 안전 필요성 스포츠 안전 재단 축전 장애 학생 체육대회 안 ...</td>\n",
       "      <td>sports</td>\n",
       "    </tr>\n",
       "    <tr>\n",
       "      <th>1571</th>\n",
       "      <td>조한승 커피 향 그윽 바둑 맥심커피배 트로피 시상식 우승 커피 향 그윽 남자 반상 ...</td>\n",
       "      <td>sports</td>\n",
       "    </tr>\n",
       "  </tbody>\n",
       "</table>\n",
       "<p>1572 rows × 2 columns</p>\n",
       "</div>"
      ],
      "text/plain": [
       "                                                   text  category\n",
       "0     동남아 담당 최희 철 부상 베이징 도착 싱가포르 행 주목 최 부상 행선 방문 목적 ...  politics\n",
       "1     결위 추경 막바지 심사 진통 여야 충돌 서울 연합뉴스 국회 예산 결산 특별 위원회 ...  politics\n",
       "2     외압 논란 항 태산 물 권성동 영장 청구 안 미현 검사 외압 폭로 파문 별도 사단 ...  politics\n",
       "3     친문 홍영표 문빠 특검 합의 문자 폭탄 공격 대표 친 문재인 홍영표 민주당 신임 원...  politics\n",
       "4     연일 비난 정상회담 전 경고 메시지 발신 맥스 선더 태 영호 불만 표시 최종 조율 ...  politics\n",
       "...                                                 ...       ...\n",
       "1567  단일 팀 추진 카누 연맹 데 트 코리아 후원 협약 스포 티비 조형 애 카누 연맹 스...    sports\n",
       "1568  올림픽 성공 뒷이야기 서울대 이희범 평창 조직 위원장 초청 특강 이인환 서울대학교 ...    sports\n",
       "1569  개막 호치민 쿠션 월드컵 명 참가 확정 선수 명 참가 차 예선 명 출전 김행 직 최...    sports\n",
       "1570  스포츠 안전 재단 축전 안전 필요성 스포츠 안전 재단 축전 장애 학생 체육대회 안 ...    sports\n",
       "1571  조한승 커피 향 그윽 바둑 맥심커피배 트로피 시상식 우승 커피 향 그윽 남자 반상 ...    sports\n",
       "\n",
       "[1572 rows x 2 columns]"
      ]
     },
     "execution_count": 25,
     "metadata": {},
     "output_type": "execute_result"
    }
   ],
   "source": [
    "all_data"
   ]
  },
  {
   "cell_type": "markdown",
   "id": "6e603afa",
   "metadata": {},
   "source": [
    "# 데이터 셔플"
   ]
  },
  {
   "cell_type": "code",
   "execution_count": 26,
   "id": "869e624c",
   "metadata": {
    "scrolled": false
   },
   "outputs": [
    {
     "data": {
      "text/html": [
       "<div>\n",
       "<style scoped>\n",
       "    .dataframe tbody tr th:only-of-type {\n",
       "        vertical-align: middle;\n",
       "    }\n",
       "\n",
       "    .dataframe tbody tr th {\n",
       "        vertical-align: top;\n",
       "    }\n",
       "\n",
       "    .dataframe thead th {\n",
       "        text-align: right;\n",
       "    }\n",
       "</style>\n",
       "<table border=\"1\" class=\"dataframe\">\n",
       "  <thead>\n",
       "    <tr style=\"text-align: right;\">\n",
       "      <th></th>\n",
       "      <th>text</th>\n",
       "      <th>category</th>\n",
       "    </tr>\n",
       "  </thead>\n",
       "  <tbody>\n",
       "    <tr>\n",
       "      <th>1120</th>\n",
       "      <td>개구리 멸종 항아리 곰팡이 한국 세계 번 변태 섭 기자 교과서 밖 과학 사이언스지 ...</td>\n",
       "      <td>technology</td>\n",
       "    </tr>\n",
       "    <tr>\n",
       "      <th>810</th>\n",
       "      <td>내달 핵 미사일 정보 수집 초소 위성 활용 미국 플래닛 사의 도브 위성 가로세로 크...</td>\n",
       "      <td>global</td>\n",
       "    </tr>\n",
       "    <tr>\n",
       "      <th>1170</th>\n",
       "      <td>네이버 댓글 추가 대책 발표 전문가 네이버 면피 조치 매크로 사용 사실 방치 드루 ...</td>\n",
       "      <td>technology</td>\n",
       "    </tr>\n",
       "    <tr>\n",
       "      <th>534</th>\n",
       "      <td>택시 탑승 시비 실명 위기 집단 폭행 명 중 명 구속 광주 연합뉴스 택시 탑승 시비...</td>\n",
       "      <td>society</td>\n",
       "    </tr>\n",
       "    <tr>\n",
       "      <th>514</th>\n",
       "      <td>광주 집단 폭행 가해자 살인 의도 범행 영상 제보 피해자 변호인 기자회견 살인 미수...</td>\n",
       "      <td>society</td>\n",
       "    </tr>\n",
       "    <tr>\n",
       "      <th>...</th>\n",
       "      <td>...</td>\n",
       "      <td>...</td>\n",
       "    </tr>\n",
       "    <tr>\n",
       "      <th>1130</th>\n",
       "      <td>사막 모바일 출시 달 펄 어비스 매출 최대 실적 서울 연합뉴스 인기 다중접속 역할 ...</td>\n",
       "      <td>technology</td>\n",
       "    </tr>\n",
       "    <tr>\n",
       "      <th>1294</th>\n",
       "      <td>단독 김국진 강수지 결혼 텐 시아노 규민 김국진 강수지 커플 결혼 방송 관계자 김국...</td>\n",
       "      <td>entertainment</td>\n",
       "    </tr>\n",
       "    <tr>\n",
       "      <th>860</th>\n",
       "      <td>이스라엘 트럼프 찬양 모드 명문 축구단 이름 헌납 베이 타르 트럼프 예루살렘 명소 ...</td>\n",
       "      <td>global</td>\n",
       "    </tr>\n",
       "    <tr>\n",
       "      <th>1459</th>\n",
       "      <td>전국 장애 학생 체육대회 폐막 최대 규모 충북 충주 연합뉴스 땀방울 자신감 꽃망울 ...</td>\n",
       "      <td>sports</td>\n",
       "    </tr>\n",
       "    <tr>\n",
       "      <th>1126</th>\n",
       "      <td>우주 별 태양 나우 별 사람 태양 역시 후 최후 태양 삶 후 태양 연료 수소 태양 ...</td>\n",
       "      <td>technology</td>\n",
       "    </tr>\n",
       "  </tbody>\n",
       "</table>\n",
       "<p>1572 rows × 2 columns</p>\n",
       "</div>"
      ],
      "text/plain": [
       "                                                   text       category\n",
       "1120  개구리 멸종 항아리 곰팡이 한국 세계 번 변태 섭 기자 교과서 밖 과학 사이언스지 ...     technology\n",
       "810   내달 핵 미사일 정보 수집 초소 위성 활용 미국 플래닛 사의 도브 위성 가로세로 크...         global\n",
       "1170  네이버 댓글 추가 대책 발표 전문가 네이버 면피 조치 매크로 사용 사실 방치 드루 ...     technology\n",
       "534   택시 탑승 시비 실명 위기 집단 폭행 명 중 명 구속 광주 연합뉴스 택시 탑승 시비...        society\n",
       "514   광주 집단 폭행 가해자 살인 의도 범행 영상 제보 피해자 변호인 기자회견 살인 미수...        society\n",
       "...                                                 ...            ...\n",
       "1130  사막 모바일 출시 달 펄 어비스 매출 최대 실적 서울 연합뉴스 인기 다중접속 역할 ...     technology\n",
       "1294  단독 김국진 강수지 결혼 텐 시아노 규민 김국진 강수지 커플 결혼 방송 관계자 김국...  entertainment\n",
       "860   이스라엘 트럼프 찬양 모드 명문 축구단 이름 헌납 베이 타르 트럼프 예루살렘 명소 ...         global\n",
       "1459  전국 장애 학생 체육대회 폐막 최대 규모 충북 충주 연합뉴스 땀방울 자신감 꽃망울 ...         sports\n",
       "1126  우주 별 태양 나우 별 사람 태양 역시 후 최후 태양 삶 후 태양 연료 수소 태양 ...     technology\n",
       "\n",
       "[1572 rows x 2 columns]"
      ]
     },
     "execution_count": 26,
     "metadata": {},
     "output_type": "execute_result"
    }
   ],
   "source": [
    "all_data_shuffled = all_data.sample(frac=1, random_state=42)\n",
    "all_data_shuffled"
   ]
  },
  {
   "cell_type": "markdown",
   "id": "9530c062",
   "metadata": {},
   "source": [
    "# TF-IDF 벡터화"
   ]
  },
  {
   "cell_type": "code",
   "execution_count": 40,
   "id": "239e7297",
   "metadata": {},
   "outputs": [],
   "source": [
    "from sklearn.feature_extraction.text import TfidfVectorizer\n",
    "from sklearn.model_selection import train_test_split\n",
    "from sklearn.naive_bayes import MultinomialNB\n",
    "from sklearn.metrics import accuracy_score, classification_report\n",
    "from sklearn.model_selection import cross_val_score\n",
    "\n",
    "x_data = all_data_shuffled.text\n",
    "y_data = all_data_shuffled.category"
   ]
  },
  {
   "cell_type": "code",
   "execution_count": 41,
   "id": "dc4bbbc8",
   "metadata": {},
   "outputs": [],
   "source": [
    "transformer = TfidfVectorizer()\n",
    "transformer.fit(x_data)\n",
    "x_data = transformer.transform(x_data) #단어 카운트 가중치"
   ]
  },
  {
   "cell_type": "code",
   "execution_count": 42,
   "id": "14556081",
   "metadata": {},
   "outputs": [
    {
     "data": {
      "text/plain": [
       "(1572, 20965)"
      ]
     },
     "execution_count": 42,
     "metadata": {},
     "output_type": "execute_result"
    }
   ],
   "source": [
    "x_data.shape # 모든 문장이 21180개의 단어로 이루어져 있음 "
   ]
  },
  {
   "cell_type": "markdown",
   "id": "5f82c064",
   "metadata": {},
   "source": [
    "# 모델 학습"
   ]
  },
  {
   "cell_type": "code",
   "execution_count": 43,
   "id": "b4d78775",
   "metadata": {},
   "outputs": [],
   "source": [
    "x_train, x_test, y_train, y_test = train_test_split(x_data, y_data, test_size=0.2, random_state=787, stratify=y_data)"
   ]
  },
  {
   "cell_type": "code",
   "execution_count": 44,
   "id": "54fc4f5b",
   "metadata": {},
   "outputs": [
    {
     "data": {
      "text/plain": [
       "MultinomialNB()"
      ]
     },
     "execution_count": 44,
     "metadata": {},
     "output_type": "execute_result"
    }
   ],
   "source": [
    "model = MultinomialNB(alpha=1.0) # 라플라스 스무딩\n",
    "model.fit(x_train, y_train)"
   ]
  },
  {
   "cell_type": "code",
   "execution_count": 45,
   "id": "470fc674",
   "metadata": {},
   "outputs": [
    {
     "name": "stdout",
     "output_type": "stream",
     "text": [
      "교차 검증 정확도: [0.82936508 0.83730159 0.82071713 0.81673307 0.83665339]\n",
      "평균 정확도: 0.83\n",
      "               precision    recall  f1-score   support\n",
      "\n",
      "daily/culture       0.78      0.54      0.64        39\n",
      "      economy       0.78      0.74      0.76        39\n",
      "entertainment       0.92      0.88      0.90        40\n",
      "       global       0.74      0.80      0.77        40\n",
      "     politics       0.70      0.82      0.75        39\n",
      "      society       0.74      0.79      0.77        39\n",
      "       sports       0.97      0.95      0.96        40\n",
      "   technology       0.84      0.92      0.88        39\n",
      "\n",
      "     accuracy                           0.81       315\n",
      "    macro avg       0.81      0.81      0.80       315\n",
      " weighted avg       0.81      0.81      0.80       315\n",
      "\n"
     ]
    }
   ],
   "source": [
    "model = MultinomialNB(alpha=1.0) # 라플라스 스무딩\n",
    "\n",
    "# 교차 검증 수행\n",
    "cv_scores = cross_val_score(model, x_train, y_train, cv=5)  # cv는 원하는 폴드 수\n",
    "\n",
    "# 교차 검증 결과 출력\n",
    "print(\"교차 검증 정확도: {}\".format(cv_scores))\n",
    "print(\"평균 정확도: {:.2f}\".format(cv_scores.mean()))\n",
    "\n",
    "# 모델 학습\n",
    "model.fit(x_train, y_train)\n",
    "\n",
    "# 테스트 데이터에 대한 예측\n",
    "y_pred = model.predict(x_test)\n",
    "\n",
    "# classification_report 출력\n",
    "print(classification_report(y_test, y_pred))"
   ]
  },
  {
   "cell_type": "markdown",
   "id": "670fcb58",
   "metadata": {},
   "source": [
    "# 교차검증"
   ]
  },
  {
   "cell_type": "code",
   "execution_count": 46,
   "id": "915c5024",
   "metadata": {},
   "outputs": [],
   "source": [
    "from sklearn.model_selection import cross_val_score"
   ]
  },
  {
   "cell_type": "code",
   "execution_count": 47,
   "id": "eb732f56",
   "metadata": {
    "scrolled": true
   },
   "outputs": [
    {
     "name": "stdout",
     "output_type": "stream",
     "text": [
      "교차 검증 정확도: [0.84444444 0.8        0.79617834 0.85031847 0.84076433]\n",
      "평균 정확도: 0.83\n"
     ]
    }
   ],
   "source": [
    "cv_scores = cross_val_score(model, x_data, y_data, cv=5)  # cv는 원하는 폴드 수\n",
    "\n",
    "# 교차 검증 결과 출력\n",
    "print(\"교차 검증 정확도: {}\".format(cv_scores))\n",
    "print(\"평균 정확도: {:.2f}\".format(cv_scores.mean()))"
   ]
  },
  {
   "cell_type": "markdown",
   "id": "3095a85a",
   "metadata": {},
   "source": [
    "# 학습 정확도 확인"
   ]
  },
  {
   "cell_type": "code",
   "execution_count": 48,
   "id": "57f3d5e9",
   "metadata": {
    "scrolled": true
   },
   "outputs": [
    {
     "name": "stdout",
     "output_type": "stream",
     "text": [
      "교차 검증 정확도: [0.82936508 0.83730159 0.82071713 0.81673307 0.83665339]\n",
      "평균 정확도: 0.83\n",
      "               precision    recall  f1-score   support\n",
      "\n",
      "daily/culture       0.78      0.54      0.64        39\n",
      "      economy       0.78      0.74      0.76        39\n",
      "entertainment       0.92      0.88      0.90        40\n",
      "       global       0.74      0.80      0.77        40\n",
      "     politics       0.70      0.82      0.75        39\n",
      "      society       0.74      0.79      0.77        39\n",
      "       sports       0.97      0.95      0.96        40\n",
      "   technology       0.84      0.92      0.88        39\n",
      "\n",
      "     accuracy                           0.81       315\n",
      "    macro avg       0.81      0.81      0.80       315\n",
      " weighted avg       0.81      0.81      0.80       315\n",
      "\n"
     ]
    }
   ],
   "source": [
    "model = MultinomialNB(alpha=1.0) # 라플라스 스무딩\n",
    "\n",
    "# 교차 검증 수행\n",
    "cv_scores = cross_val_score(model, x_train, y_train, cv=5)  # cv는 원하는 폴드 수\n",
    "\n",
    "# 교차 검증 결과 출력\n",
    "print(\"교차 검증 정확도: {}\".format(cv_scores))\n",
    "print(\"평균 정확도: {:.2f}\".format(cv_scores.mean()))\n",
    "\n",
    "# 모델 학습\n",
    "model.fit(x_train, y_train)\n",
    "\n",
    "# 테스트 데이터에 대한 예측\n",
    "y_pred = model.predict(x_test)\n",
    "\n",
    "# classification_report 출력\n",
    "print(classification_report(y_test, y_pred))"
   ]
  },
  {
   "cell_type": "markdown",
   "id": "0c1bc147",
   "metadata": {},
   "source": [
    "# 실제 기사 넣어서 잘 분류하는지 확인"
   ]
  },
  {
   "cell_type": "code",
   "execution_count": 317,
   "id": "6b56d13e",
   "metadata": {
    "scrolled": true
   },
   "outputs": [
    {
     "name": "stdout",
     "output_type": "stream",
     "text": [
      "주제 예측값 : daily/culture\n",
      "확률 : 0.14116145996764756\n",
      "주제별 예측 확률:\n",
      "daily/culture : 0.14116145996764756\n",
      "economy : 0.11670012790641475\n",
      "entertainment : 0.12920949292243106\n",
      "global : 0.10343830768822108\n",
      "politics : 0.12422658756960457\n",
      "society : 0.1374373036029147\n",
      "sports : 0.11670247318276263\n",
      "technology : 0.13112424716000284\n"
     ]
    },
    {
     "name": "stderr",
     "output_type": "stream",
     "text": [
      "[nltk_data] Downloading package punkt to\n",
      "[nltk_data]     C:\\Users\\82102\\AppData\\Roaming\\nltk_data...\n",
      "[nltk_data]   Package punkt is already up-to-date!\n"
     ]
    }
   ],
   "source": [
    "labels = ['daily/culture', 'economy', 'entertainment', 'global', 'politics', 'society', 'sports', 'technology']\n",
    "\n",
    "x_test = np.array([\n",
    "    \"뉴스 기사 넣는 부분\"])\n",
    "\n",
    "x_test = clean_korean_documents(x_test) #텍스트 정제\n",
    "x_test = transformer.transform(x_test) #단어 카운트 가중치\n",
    "\n",
    "y_predict = model.predict(x_test)\n",
    "y_predict\n",
    "\n",
    "#label = labels[y_predict[0]]\n",
    "y_predict2 = model.predict_proba(x_test)\n",
    "y_predict2[0]\n",
    "y_predict\n",
    "confidence = y_predict2[0][y_predict2[0].argmax()]\n",
    "\n",
    "print(\"주제 예측값 :\",y_predict[0])\n",
    "print(\"확률 :\",confidence)\n",
    "\n",
    "\n",
    "predicted_labels = [labels[i] for i in range(len(labels))]\n",
    "\n",
    "print(\"주제별 예측 확률:\")\n",
    "for label, probability in zip(predicted_labels, y_predict2[0]):\n",
    "    print(label, \":\", probability)\n",
    "\n",
    "#confidence = y_predict2[0][y_predict2[0].argmax()]\n",
    "#print(\"Predicted Label:\", predicted_labels[y_predict[0]])\n",
    "#print(\"Confidence:\", confidence)"
   ]
  },
  {
   "cell_type": "code",
   "execution_count": 273,
   "id": "7994f9b5",
   "metadata": {},
   "outputs": [
    {
     "data": {
      "text/plain": [
       "array([[0.0942432 , 0.09566951, 0.32476556, 0.11317758, 0.08796114,\n",
       "        0.09937033, 0.09593075, 0.08888194]])"
      ]
     },
     "execution_count": 273,
     "metadata": {},
     "output_type": "execute_result"
    }
   ],
   "source": [
    "y_predict2"
   ]
  }
 ],
 "metadata": {
  "kernelspec": {
   "display_name": "Python 3 (ipykernel)",
   "language": "python",
   "name": "python3"
  },
  "language_info": {
   "codemirror_mode": {
    "name": "ipython",
    "version": 3
   },
   "file_extension": ".py",
   "mimetype": "text/x-python",
   "name": "python",
   "nbconvert_exporter": "python",
   "pygments_lexer": "ipython3",
   "version": "3.9.7"
  }
 },
 "nbformat": 4,
 "nbformat_minor": 5
}
